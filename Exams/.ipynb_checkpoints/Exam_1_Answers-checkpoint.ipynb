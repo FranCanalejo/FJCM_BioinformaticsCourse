{
 "cells": [
  {
   "cell_type": "markdown",
   "metadata": {},
   "source": [
    "# Problem 2"
   ]
  },
  {
   "cell_type": "code",
   "execution_count": null,
   "metadata": {
    "scrolled": true
   },
   "outputs": [],
   "source": [
    "ls -lth"
   ]
  },
  {
   "cell_type": "markdown",
   "metadata": {},
   "source": [
    "With the command *ls* all files and directories which are inside the current folder (in this case the folder \"Exams\") are shown. With *-l* the list is written as a list. With *-t*, last time files and directories were modified is shown and with *-h*, it is shown in human readable size with their file-size. "
   ]
  },
  {
   "cell_type": "markdown",
   "metadata": {},
   "source": [
    "The permissions on the file \"Locus_Germplasm_Phenotype_20130122.txt\" are *read* and *write* for the owner and the owner group, and *read* por anyone (2/3 for *read* and *write* for the owner, 5/6 for *read* and *write* for the owner group and 8 for *read* for anyone). There is no execution permission because it can not be executed. The owner is *osboxes*, and the owner group is also *osboxes*. Position 1 has no letter *d* because 'Locus_Germplasm_Phenotype_20130122.txt' is a file, not a directory."
   ]
  },
  {
   "cell_type": "markdown",
   "metadata": {},
   "source": [
    "# Problem 3"
   ]
  },
  {
   "cell_type": "code",
   "execution_count": null,
   "metadata": {},
   "outputs": [],
   "source": [
    "head -1 Locus_Germplasm_Phenotype_20130122.txt"
   ]
  },
  {
   "cell_type": "markdown",
   "metadata": {},
   "source": [
    "The header line is the first line of the file. With the command *head* the beginning of the text is shown, and with *-(number)* the number of lines to show are defined, so with *head -1* only the first line, which is the header, is shown"
   ]
  },
  {
   "cell_type": "markdown",
   "metadata": {},
   "source": [
    "# Problem 4"
   ]
  },
  {
   "cell_type": "code",
   "execution_count": null,
   "metadata": {},
   "outputs": [],
   "source": [
    "cat Locus_Germplasm_Phenotype_20130122.txt | wc -l"
   ]
  },
  {
   "cell_type": "markdown",
   "metadata": {},
   "source": [
    "With *cat* everyline of the file is opened. The command *wc -l* shows the number of lines of the file. The pipe makes the output of the first command the input of the second one."
   ]
  },
  {
   "cell_type": "markdown",
   "metadata": {},
   "source": [
    "# Problem 5 "
   ]
  },
  {
   "cell_type": "code",
   "execution_count": null,
   "metadata": {},
   "outputs": [],
   "source": [
    "grep -E -av '^Locus_name\\)' Locus_Germplasm_Phenotype_20130122.txt > Data_Only.csv"
   ]
  },
  {
   "cell_type": "code",
   "execution_count": null,
   "metadata": {},
   "outputs": [],
   "source": [
    "cat Data_Only.csv | wc -l"
   ]
  },
  {
   "cell_type": "markdown",
   "metadata": {},
   "source": [
    "As only the header line starts by *Locus_name)*, *grep* command can be used to select it. The *-a* is used because it is a binary file (if *grep* is used without *-a* the solution would not be correct). So, to select all the lines except the first one, *-v* is used to select everyline which DOES NOT contain the searching. *-E* is used so ')' could be written in the searching text. After that, the result is saved in a new file with '>' . In the searching text, the function of*^* is that that line has to start with the searching text. \n",
    "\n",
    "It could be known if the result is correct using *wc -l* and comparing the result with 'Problem 4'. The number of lines is just one below 'Locus_Germplasm_Phenotype_20130122.txt', so it seems correct."
   ]
  },
  {
   "cell_type": "markdown",
   "metadata": {},
   "source": [
    "# Problem 6"
   ]
  },
  {
   "cell_type": "code",
   "execution_count": null,
   "metadata": {},
   "outputs": [],
   "source": [
    "grep -E -ia 'root\\W|roots\\W|root$|roots$' Locus_Germplasm_Phenotype_20130122.txt"
   ]
  },
  {
   "cell_type": "markdown",
   "metadata": {},
   "source": [
    "The searching can be done with the *grep* command. To do it insensitive, it is necessary to add *-i*. Also *-a* is necessary to be added, as have been explained above. The text searching contains 'root\\W' or 'roots\\W', so no other words containing the word 'root' are obtained. Both of them are searched so it is obtained singular and plural forms of the word. In case any lines end with 'root' or 'roots', they are included by using 'root$' and 'roots$'. With '|' inside the searching text, *grep* does every search I have mentioned once at time."
   ]
  },
  {
   "cell_type": "code",
   "execution_count": null,
   "metadata": {},
   "outputs": [],
   "source": [
    "grep -E -ia 'root\\W|roots\\W|root$|roots$' Locus_Germplasm_Phenotype_20130122.txt | wc -l"
   ]
  },
  {
   "cell_type": "markdown",
   "metadata": {},
   "source": [
    "The command *wc -l* shows the number of lines in which 'root' and/or 'roots' appear"
   ]
  },
  {
   "cell_type": "markdown",
   "metadata": {},
   "source": [
    "# Problem 7"
   ]
  },
  {
   "cell_type": "code",
   "execution_count": null,
   "metadata": {},
   "outputs": [],
   "source": [
    "grep -E -ia 'root\\W|roots\\W|root$|roots$' Locus_Germplasm_Phenotype_20130122.txt | grep -E -iao '^at[1-5]g[0-9]{5}' > Root-associated-Loci.txt"
   ]
  },
  {
   "cell_type": "markdown",
   "metadata": {},
   "source": [
    "The same search that problem 6 is used at the beginning. After that, a new search using *grep* is used using the output from problem 6 as input. The AGI Locus is the beginning of everyline. It is composed by 'AT', then a number between 1-5 which indicate the chromosome, a 'G', and five digits from 0 to 9. That's the reason the searching text is '^at[1-5]g[0-9]{5}' (^ indicates the beginning, the numbers between [] indicates a range, and the number between {} indicates the number of times a character is repeated). The search is saved in a new file with '>'. It is used *-o* in the command because we want exact matches, not all the line\n",
    "\n",
    "Some of the lines containing 'root' or 'roots' do not have an AGI Locus. The AGI Locus indicates the position of the gene in the chromosome, so I imagine that for those whose positions are unknown the AGI Locus is not written using the code (because without the position the AGI Locus can not be written). So, as we are interested in knowing the AGI Locus, that is, the position of the gene, we do not want these genes I have just talked about, and that is why the searching with *grep* have been done by that way."
   ]
  },
  {
   "cell_type": "code",
   "execution_count": null,
   "metadata": {},
   "outputs": [],
   "source": [
    "cat Root-associated-Loci.txt | wc -l"
   ]
  },
  {
   "cell_type": "markdown",
   "metadata": {},
   "source": [
    "Counting the lines in the file 'Root-associated-Loci.txt' and comparing it with the lines of the search in problem 6, we see that there are 16 lines that there are not in 'Root-associated-Loci.txt'. Those lines are those whose AGI Locus is unknown, and that we have discarded."
   ]
  },
  {
   "cell_type": "markdown",
   "metadata": {},
   "source": [
    "# Problem 8"
   ]
  },
  {
   "cell_type": "code",
   "execution_count": null,
   "metadata": {},
   "outputs": [],
   "source": [
    "grep -E -ia 'root\\W|roots\\W|root$|roots$' Locus_Germplasm_Phenotype_20130122.txt | grep -P -iao '\\t[0-9]+$' > Root-associated-Publications.txt"
   ]
  },
  {
   "cell_type": "markdown",
   "metadata": {},
   "source": [
    "Similarly to problem 7, the same search with *grep* that is used in problem 6 is used here at first. Then, another search with *grep* has been done. In this case, *-P* is used so some characters are written the same way in Perl language are: in this case 'tab' is written by '\\t' because of that. The search includes the tab, then digits from 0 to 9 (undefined amount, '+' in the searching text), and then '$' is included to indicate that the line ends there. After that, it is saved in a new file with '>'.\n",
    "\n",
    "There are some lines with no Pubmed ID. Similarly to problem 7, we are not interested in saved them, because we want the ID in case we would like to read the paper where the information has been found. That is the reason we have done that search with *grep*"
   ]
  },
  {
   "cell_type": "code",
   "execution_count": null,
   "metadata": {},
   "outputs": [],
   "source": [
    "cat Root-associated-Publications.txt | wc -l"
   ]
  },
  {
   "cell_type": "markdown",
   "metadata": {},
   "source": [
    "If we count the lines of the 'Root-associated-Publications.txt' file, we notice there are less lines than the search in problem 6. The lost lines are those with no Pubmed ID, as it is explained above."
   ]
  },
  {
   "cell_type": "markdown",
   "metadata": {},
   "source": [
    "# Problem 9"
   ]
  },
  {
   "cell_type": "code",
   "execution_count": null,
   "metadata": {},
   "outputs": [],
   "source": [
    "grep -iao '^at[1-5]' Root-associated-Loci.txt | sort | uniq"
   ]
  },
  {
   "cell_type": "markdown",
   "metadata": {},
   "source": [
    "At first *grep* command is used, with *-i* for insensitive, *-a* as it is explained above, and *-o* because we want the exact match. After that, the results are sorted by *sort*. Once it is sorted, all the lines which are repeated are deleted with *uniq*. Without *sort*, they would only be deleted if the repeated lines were after the original, so the repeated lines between different lines would be still there\n",
    "\n",
    "With this command we can see there are genes related to roots in every chromosome (each line, with a different number in position 3, is related to one chromosome)"
   ]
  }
 ],
 "metadata": {
  "kernelspec": {
   "display_name": "Bash",
   "language": "bash",
   "name": "bash"
  },
  "language_info": {
   "codemirror_mode": "shell",
   "file_extension": ".sh",
   "mimetype": "text/x-sh",
   "name": "bash"
  }
 },
 "nbformat": 4,
 "nbformat_minor": 2
}
